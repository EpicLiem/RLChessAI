{
 "cells": [
  {
   "cell_type": "code",
   "execution_count": 1,
   "metadata": {
    "collapsed": true
   },
   "outputs": [
    {
     "name": "stdout",
     "output_type": "stream",
     "text": [
      "Requirement already satisfied: pettingzoo in /home/monis/miniconda3/envs/chessAIproto/lib/python3.10/site-packages (1.22.3)\r\n",
      "Requirement already satisfied: gymnasium>=0.26.0 in /home/monis/miniconda3/envs/chessAIproto/lib/python3.10/site-packages (from pettingzoo) (0.27.0)\r\n",
      "Requirement already satisfied: numpy>=1.18.0 in /home/monis/.local/lib/python3.10/site-packages (from pettingzoo) (1.23.5)\r\n",
      "Requirement already satisfied: jax-jumpy>=0.2.0 in /home/monis/miniconda3/envs/chessAIproto/lib/python3.10/site-packages (from gymnasium>=0.26.0->pettingzoo) (0.2.0)\r\n",
      "Requirement already satisfied: typing-extensions>=4.3.0 in /home/monis/.local/lib/python3.10/site-packages (from gymnasium>=0.26.0->pettingzoo) (4.4.0)\r\n",
      "Requirement already satisfied: gymnasium-notices>=0.0.1 in /home/monis/miniconda3/envs/chessAIproto/lib/python3.10/site-packages (from gymnasium>=0.26.0->pettingzoo) (0.0.1)\r\n",
      "Requirement already satisfied: cloudpickle>=1.2.0 in /home/monis/miniconda3/envs/chessAIproto/lib/python3.10/site-packages (from gymnasium>=0.26.0->pettingzoo) (1.6.0)\r\n",
      "Requirement already satisfied: shimmy<1.0,>=0.1.0 in /home/monis/miniconda3/envs/chessAIproto/lib/python3.10/site-packages (from gymnasium>=0.26.0->pettingzoo) (0.2.0)\r\n",
      "Requirement already satisfied: ray[all] in /home/monis/miniconda3/envs/chessAIproto/lib/python3.10/site-packages (2.2.0)\r\n",
      "Requirement already satisfied: tensorflow in /home/monis/miniconda3/envs/chessAIproto/lib/python3.10/site-packages (2.11.0)\r\n",
      "Requirement already satisfied: pettingzoo[all] in /home/monis/miniconda3/envs/chessAIproto/lib/python3.10/site-packages (1.22.3)\r\n",
      "Requirement already satisfied: filelock in /home/monis/miniconda3/envs/chessAIproto/lib/python3.10/site-packages (from ray[all]) (3.9.0)\r\n",
      "Requirement already satisfied: packaging in /home/monis/.local/lib/python3.10/site-packages (from ray[all]) (22.0)\r\n",
      "Requirement already satisfied: pyyaml in /home/monis/miniconda3/envs/chessAIproto/lib/python3.10/site-packages (from ray[all]) (6.0)\r\n",
      "Requirement already satisfied: protobuf!=3.19.5,>=3.15.3 in /home/monis/miniconda3/envs/chessAIproto/lib/python3.10/site-packages (from ray[all]) (3.19.6)\r\n",
      "Requirement already satisfied: grpcio>=1.42.0 in /home/monis/.local/lib/python3.10/site-packages (from ray[all]) (1.51.1)\r\n",
      "Requirement already satisfied: numpy>=1.19.3 in /home/monis/.local/lib/python3.10/site-packages (from ray[all]) (1.23.5)\r\n",
      "Requirement already satisfied: attrs in /home/monis/.local/lib/python3.10/site-packages (from ray[all]) (22.1.0)\r\n",
      "Requirement already satisfied: frozenlist in /home/monis/miniconda3/envs/chessAIproto/lib/python3.10/site-packages (from ray[all]) (1.3.3)\r\n",
      "Requirement already satisfied: jsonschema in /home/monis/miniconda3/envs/chessAIproto/lib/python3.10/site-packages (from ray[all]) (4.16.0)\r\n",
      "Requirement already satisfied: requests in /home/monis/.local/lib/python3.10/site-packages (from ray[all]) (2.28.1)\r\n",
      "Requirement already satisfied: aiosignal in /home/monis/miniconda3/envs/chessAIproto/lib/python3.10/site-packages (from ray[all]) (1.3.1)\r\n",
      "Requirement already satisfied: msgpack<2.0.0,>=1.0.0 in /home/monis/miniconda3/envs/chessAIproto/lib/python3.10/site-packages (from ray[all]) (1.0.4)\r\n",
      "Requirement already satisfied: virtualenv>=20.0.24 in /home/monis/miniconda3/envs/chessAIproto/lib/python3.10/site-packages (from ray[all]) (20.17.1)\r\n",
      "Requirement already satisfied: click>=7.0 in /home/monis/miniconda3/envs/chessAIproto/lib/python3.10/site-packages (from ray[all]) (8.1.3)\r\n",
      "Requirement already satisfied: starlette in /home/monis/miniconda3/envs/chessAIproto/lib/python3.10/site-packages (from ray[all]) (0.22.0)\r\n",
      "Requirement already satisfied: tensorboardX>=1.9 in /home/monis/miniconda3/envs/chessAIproto/lib/python3.10/site-packages (from ray[all]) (2.5.1)\r\n",
      "Requirement already satisfied: opencensus in /home/monis/miniconda3/envs/chessAIproto/lib/python3.10/site-packages (from ray[all]) (0.11.0)\r\n",
      "Requirement already satisfied: aiorwlock in /home/monis/miniconda3/envs/chessAIproto/lib/python3.10/site-packages (from ray[all]) (1.3.0)\r\n",
      "Requirement already satisfied: ray-cpp==2.2.0 in /home/monis/miniconda3/envs/chessAIproto/lib/python3.10/site-packages (from ray[all]) (2.2.0)\r\n",
      "Requirement already satisfied: scikit-image in /home/monis/miniconda3/envs/chessAIproto/lib/python3.10/site-packages (from ray[all]) (0.19.3)\r\n",
      "Requirement already satisfied: colorful in /home/monis/miniconda3/envs/chessAIproto/lib/python3.10/site-packages (from ray[all]) (0.5.5)\r\n",
      "Requirement already satisfied: pandas>=1.3 in /home/monis/miniconda3/envs/chessAIproto/lib/python3.10/site-packages (from ray[all]) (1.5.2)\r\n",
      "Requirement already satisfied: opentelemetry-api==1.1.0 in /home/monis/miniconda3/envs/chessAIproto/lib/python3.10/site-packages (from ray[all]) (1.1.0)\r\n",
      "Requirement already satisfied: pydantic in /home/monis/miniconda3/envs/chessAIproto/lib/python3.10/site-packages (from ray[all]) (1.10.4)\r\n",
      "Requirement already satisfied: tabulate in /home/monis/miniconda3/envs/chessAIproto/lib/python3.10/site-packages (from ray[all]) (0.9.0)\r\n",
      "Requirement already satisfied: typer in /home/monis/miniconda3/envs/chessAIproto/lib/python3.10/site-packages (from ray[all]) (0.7.0)\r\n",
      "Requirement already satisfied: rich in /home/monis/miniconda3/envs/chessAIproto/lib/python3.10/site-packages (from ray[all]) (13.0.1)\r\n",
      "Requirement already satisfied: uvicorn in /home/monis/miniconda3/envs/chessAIproto/lib/python3.10/site-packages (from ray[all]) (0.20.0)\r\n",
      "Requirement already satisfied: fsspec in /home/monis/miniconda3/envs/chessAIproto/lib/python3.10/site-packages (from ray[all]) (2022.11.0)\r\n",
      "Requirement already satisfied: opentelemetry-exporter-otlp==1.1.0 in /home/monis/miniconda3/envs/chessAIproto/lib/python3.10/site-packages (from ray[all]) (1.1.0)\r\n",
      "Requirement already satisfied: opentelemetry-sdk==1.1.0 in /home/monis/miniconda3/envs/chessAIproto/lib/python3.10/site-packages (from ray[all]) (1.1.0)\r\n",
      "Requirement already satisfied: gym<0.24.0,>=0.21.0 in /home/monis/miniconda3/envs/chessAIproto/lib/python3.10/site-packages (from ray[all]) (0.23.1)\r\n",
      "Requirement already satisfied: py-spy>=0.2.0 in /home/monis/miniconda3/envs/chessAIproto/lib/python3.10/site-packages (from ray[all]) (0.3.14)\r\n",
      "Requirement already satisfied: lz4 in /home/monis/miniconda3/envs/chessAIproto/lib/python3.10/site-packages (from ray[all]) (4.3.2)\r\n",
      "Requirement already satisfied: urllib3 in /home/monis/miniconda3/envs/chessAIproto/lib/python3.10/site-packages (from ray[all]) (1.26.13)\r\n",
      "Requirement already satisfied: aiohttp-cors in /home/monis/miniconda3/envs/chessAIproto/lib/python3.10/site-packages (from ray[all]) (0.7.0)\r\n",
      "Requirement already satisfied: smart-open in /home/monis/miniconda3/envs/chessAIproto/lib/python3.10/site-packages (from ray[all]) (6.3.0)\r\n",
      "Requirement already satisfied: matplotlib!=3.4.3 in /home/monis/miniconda3/envs/chessAIproto/lib/python3.10/site-packages (from ray[all]) (3.6.2)\r\n",
      "Requirement already satisfied: gpustat>=1.0.0 in /home/monis/miniconda3/envs/chessAIproto/lib/python3.10/site-packages (from ray[all]) (1.0.0)\r\n",
      "Requirement already satisfied: aiohttp>=3.7 in /home/monis/miniconda3/envs/chessAIproto/lib/python3.10/site-packages (from ray[all]) (3.8.3)\r\n",
      "Requirement already satisfied: pyarrow<8.0.0,>=6.0.1 in /home/monis/miniconda3/envs/chessAIproto/lib/python3.10/site-packages (from ray[all]) (7.0.0)\r\n",
      "Requirement already satisfied: dm-tree in /home/monis/miniconda3/envs/chessAIproto/lib/python3.10/site-packages (from ray[all]) (0.1.8)\r\n",
      "Requirement already satisfied: prometheus-client<0.14.0,>=0.7.1 in /home/monis/miniconda3/envs/chessAIproto/lib/python3.10/site-packages (from ray[all]) (0.13.1)\r\n",
      "Requirement already satisfied: scipy in /home/monis/miniconda3/envs/chessAIproto/lib/python3.10/site-packages (from ray[all]) (1.10.0)\r\n",
      "Requirement already satisfied: kubernetes in /home/monis/miniconda3/envs/chessAIproto/lib/python3.10/site-packages (from ray[all]) (25.3.0)\r\n",
      "Requirement already satisfied: fastapi in /home/monis/miniconda3/envs/chessAIproto/lib/python3.10/site-packages (from ray[all]) (0.89.1)\r\n",
      "Requirement already satisfied: opentelemetry-exporter-otlp-proto-grpc==1.1.0 in /home/monis/miniconda3/envs/chessAIproto/lib/python3.10/site-packages (from opentelemetry-exporter-otlp==1.1.0->ray[all]) (1.1.0)\r\n",
      "Requirement already satisfied: opentelemetry-semantic-conventions==0.20b0 in /home/monis/miniconda3/envs/chessAIproto/lib/python3.10/site-packages (from opentelemetry-sdk==1.1.0->ray[all]) (0.20b0)\r\n",
      "Requirement already satisfied: backoff~=1.10.0 in /home/monis/miniconda3/envs/chessAIproto/lib/python3.10/site-packages (from opentelemetry-exporter-otlp-proto-grpc==1.1.0->opentelemetry-exporter-otlp==1.1.0->ray[all]) (1.10.0)\r\n",
      "Requirement already satisfied: googleapis-common-protos~=1.52 in /home/monis/miniconda3/envs/chessAIproto/lib/python3.10/site-packages (from opentelemetry-exporter-otlp-proto-grpc==1.1.0->opentelemetry-exporter-otlp==1.1.0->ray[all]) (1.58.0)\r\n",
      "Requirement already satisfied: opentelemetry-proto==1.1.0 in /home/monis/miniconda3/envs/chessAIproto/lib/python3.10/site-packages (from opentelemetry-exporter-otlp-proto-grpc==1.1.0->opentelemetry-exporter-otlp==1.1.0->ray[all]) (1.1.0)\r\n",
      "Requirement already satisfied: tensorflow-estimator<2.12,>=2.11.0 in /home/monis/miniconda3/envs/chessAIproto/lib/python3.10/site-packages (from tensorflow) (2.11.0)\r\n",
      "Requirement already satisfied: absl-py>=1.0.0 in /home/monis/.local/lib/python3.10/site-packages (from tensorflow) (1.3.0)\r\n",
      "Requirement already satisfied: tensorflow-io-gcs-filesystem>=0.23.1 in /home/monis/.local/lib/python3.10/site-packages (from tensorflow) (0.28.0)\r\n",
      "Requirement already satisfied: opt-einsum>=2.3.2 in /home/monis/.local/lib/python3.10/site-packages (from tensorflow) (3.3.0)\r\n",
      "Requirement already satisfied: tensorboard<2.12,>=2.11 in /home/monis/.local/lib/python3.10/site-packages (from tensorflow) (2.11.0)\r\n",
      "Requirement already satisfied: gast<=0.4.0,>=0.2.1 in /home/monis/.local/lib/python3.10/site-packages (from tensorflow) (0.4.0)\r\n",
      "Requirement already satisfied: wrapt>=1.11.0 in /home/monis/.local/lib/python3.10/site-packages (from tensorflow) (1.14.1)\r\n",
      "Requirement already satisfied: typing-extensions>=3.6.6 in /home/monis/.local/lib/python3.10/site-packages (from tensorflow) (4.4.0)\r\n",
      "Requirement already satisfied: keras<2.12,>=2.11.0 in /home/monis/miniconda3/envs/chessAIproto/lib/python3.10/site-packages (from tensorflow) (2.11.0)\r\n",
      "Requirement already satisfied: astunparse>=1.6.0 in /home/monis/.local/lib/python3.10/site-packages (from tensorflow) (1.6.3)\r\n",
      "Requirement already satisfied: six>=1.12.0 in /home/monis/miniconda3/envs/chessAIproto/lib/python3.10/site-packages (from tensorflow) (1.16.0)\r\n",
      "Requirement already satisfied: google-pasta>=0.1.1 in /home/monis/.local/lib/python3.10/site-packages (from tensorflow) (0.2.0)\r\n",
      "Requirement already satisfied: setuptools in /home/monis/miniconda3/envs/chessAIproto/lib/python3.10/site-packages (from tensorflow) (65.6.3)\r\n",
      "Requirement already satisfied: libclang>=13.0.0 in /home/monis/.local/lib/python3.10/site-packages (from tensorflow) (14.0.6)\r\n",
      "Requirement already satisfied: h5py>=2.9.0 in /home/monis/.local/lib/python3.10/site-packages (from tensorflow) (3.7.0)\r\n",
      "Requirement already satisfied: termcolor>=1.1.0 in /home/monis/.local/lib/python3.10/site-packages (from tensorflow) (2.1.1)\r\n",
      "Requirement already satisfied: flatbuffers>=2.0 in /home/monis/.local/lib/python3.10/site-packages (from tensorflow) (22.12.6)\r\n",
      "Requirement already satisfied: gymnasium>=0.26.0 in /home/monis/miniconda3/envs/chessAIproto/lib/python3.10/site-packages (from pettingzoo[all]) (0.27.0)\r\n",
      "Requirement already satisfied: bandit in /home/monis/miniconda3/envs/chessAIproto/lib/python3.10/site-packages (from pettingzoo[all]) (1.7.4)\r\n",
      "Requirement already satisfied: pre-commit in /home/monis/miniconda3/envs/chessAIproto/lib/python3.10/site-packages (from pettingzoo[all]) (2.21.0)\r\n",
      "Requirement already satisfied: flake8 in /home/monis/miniconda3/envs/chessAIproto/lib/python3.10/site-packages (from pettingzoo[all]) (6.0.0)\r\n",
      "Requirement already satisfied: isort in /home/monis/miniconda3/envs/chessAIproto/lib/python3.10/site-packages (from pettingzoo[all]) (5.11.4)\r\n",
      "Requirement already satisfied: hanabi-learning-environment==0.0.4 in /home/monis/miniconda3/envs/chessAIproto/lib/python3.10/site-packages (from pettingzoo[all]) (0.0.4)\r\n",
      "Requirement already satisfied: rlcard==1.0.5 in /home/monis/miniconda3/envs/chessAIproto/lib/python3.10/site-packages (from pettingzoo[all]) (1.0.5)\r\n",
      "Requirement already satisfied: AutoROM in /home/monis/miniconda3/envs/chessAIproto/lib/python3.10/site-packages (from pettingzoo[all]) (0.5.0)\r\n",
      "Requirement already satisfied: pytest-cov in /home/monis/miniconda3/envs/chessAIproto/lib/python3.10/site-packages (from pettingzoo[all]) (4.0.0)\r\n",
      "Requirement already satisfied: box2d-py==2.3.5 in /home/monis/miniconda3/envs/chessAIproto/lib/python3.10/site-packages (from pettingzoo[all]) (2.3.5)\r\n",
      "Requirement already satisfied: pygame==2.1.3.dev8 in /home/monis/miniconda3/envs/chessAIproto/lib/python3.10/site-packages (from pettingzoo[all]) (2.1.3.dev8)\r\n",
      "Requirement already satisfied: codespell in /home/monis/miniconda3/envs/chessAIproto/lib/python3.10/site-packages (from pettingzoo[all]) (2.2.2)\r\n",
      "Requirement already satisfied: pillow>=8.0.1 in /home/monis/miniconda3/envs/chessAIproto/lib/python3.10/site-packages (from pettingzoo[all]) (9.4.0)\r\n",
      "Requirement already satisfied: pytest in /home/monis/miniconda3/envs/chessAIproto/lib/python3.10/site-packages (from pettingzoo[all]) (7.2.0)\r\n",
      "Requirement already satisfied: pymunk==6.2.0 in /home/monis/miniconda3/envs/chessAIproto/lib/python3.10/site-packages (from pettingzoo[all]) (6.2.0)\r\n",
      "Requirement already satisfied: multi-agent-ale-py==0.1.11 in /home/monis/miniconda3/envs/chessAIproto/lib/python3.10/site-packages (from pettingzoo[all]) (0.1.11)\r\n",
      "Requirement already satisfied: pynput in /home/monis/miniconda3/envs/chessAIproto/lib/python3.10/site-packages (from pettingzoo[all]) (1.7.6)\r\n",
      "Requirement already satisfied: chess==1.7.0 in /home/monis/miniconda3/envs/chessAIproto/lib/python3.10/site-packages (from pettingzoo[all]) (1.7.0)\r\n",
      "Requirement already satisfied: cffi in /home/monis/miniconda3/envs/chessAIproto/lib/python3.10/site-packages (from hanabi-learning-environment==0.0.4->pettingzoo[all]) (1.15.1)\r\n",
      "Requirement already satisfied: async-timeout<5.0,>=4.0.0a3 in /home/monis/miniconda3/envs/chessAIproto/lib/python3.10/site-packages (from aiohttp>=3.7->ray[all]) (4.0.2)\r\n",
      "Requirement already satisfied: yarl<2.0,>=1.0 in /home/monis/miniconda3/envs/chessAIproto/lib/python3.10/site-packages (from aiohttp>=3.7->ray[all]) (1.8.2)\r\n",
      "Requirement already satisfied: multidict<7.0,>=4.5 in /home/monis/miniconda3/envs/chessAIproto/lib/python3.10/site-packages (from aiohttp>=3.7->ray[all]) (6.0.4)\r\n",
      "Requirement already satisfied: charset-normalizer<3.0,>=2.0 in /home/monis/.local/lib/python3.10/site-packages (from aiohttp>=3.7->ray[all]) (2.1.1)\r\n",
      "Requirement already satisfied: wheel<1.0,>=0.23.0 in /home/monis/.local/lib/python3.10/site-packages (from astunparse>=1.6.0->tensorflow) (0.38.4)\r\n",
      "Requirement already satisfied: blessed>=1.17.1 in /home/monis/miniconda3/envs/chessAIproto/lib/python3.10/site-packages (from gpustat>=1.0.0->ray[all]) (1.19.1)\r\n",
      "Requirement already satisfied: nvidia-ml-py<=11.495.46,>=11.450.129 in /home/monis/miniconda3/envs/chessAIproto/lib/python3.10/site-packages (from gpustat>=1.0.0->ray[all]) (11.495.46)\r\n",
      "Requirement already satisfied: psutil>=5.6.0 in /home/monis/miniconda3/envs/chessAIproto/lib/python3.10/site-packages (from gpustat>=1.0.0->ray[all]) (5.9.0)\r\n",
      "Requirement already satisfied: gym-notices>=0.0.4 in /home/monis/miniconda3/envs/chessAIproto/lib/python3.10/site-packages (from gym<0.24.0,>=0.21.0->ray[all]) (0.0.8)\r\n",
      "Requirement already satisfied: cloudpickle>=1.2.0 in /home/monis/miniconda3/envs/chessAIproto/lib/python3.10/site-packages (from gym<0.24.0,>=0.21.0->ray[all]) (1.6.0)\r\n",
      "Requirement already satisfied: gymnasium-notices>=0.0.1 in /home/monis/miniconda3/envs/chessAIproto/lib/python3.10/site-packages (from gymnasium>=0.26.0->pettingzoo[all]) (0.0.1)\r\n",
      "Requirement already satisfied: jax-jumpy>=0.2.0 in /home/monis/miniconda3/envs/chessAIproto/lib/python3.10/site-packages (from gymnasium>=0.26.0->pettingzoo[all]) (0.2.0)\r\n",
      "Requirement already satisfied: shimmy<1.0,>=0.1.0 in /home/monis/miniconda3/envs/chessAIproto/lib/python3.10/site-packages (from gymnasium>=0.26.0->pettingzoo[all]) (0.2.0)\r\n",
      "Requirement already satisfied: kiwisolver>=1.0.1 in /home/monis/miniconda3/envs/chessAIproto/lib/python3.10/site-packages (from matplotlib!=3.4.3->ray[all]) (1.4.4)\r\n",
      "Requirement already satisfied: cycler>=0.10 in /home/monis/miniconda3/envs/chessAIproto/lib/python3.10/site-packages (from matplotlib!=3.4.3->ray[all]) (0.11.0)\r\n",
      "Requirement already satisfied: python-dateutil>=2.7 in /home/monis/miniconda3/envs/chessAIproto/lib/python3.10/site-packages (from matplotlib!=3.4.3->ray[all]) (2.8.2)\r\n",
      "Requirement already satisfied: pyparsing>=2.2.1 in /home/monis/miniconda3/envs/chessAIproto/lib/python3.10/site-packages (from matplotlib!=3.4.3->ray[all]) (3.0.9)\r\n",
      "Requirement already satisfied: fonttools>=4.22.0 in /home/monis/miniconda3/envs/chessAIproto/lib/python3.10/site-packages (from matplotlib!=3.4.3->ray[all]) (4.38.0)\r\n",
      "Requirement already satisfied: contourpy>=1.0.1 in /home/monis/miniconda3/envs/chessAIproto/lib/python3.10/site-packages (from matplotlib!=3.4.3->ray[all]) (1.0.6)\r\n",
      "Requirement already satisfied: pytz>=2020.1 in /home/monis/miniconda3/envs/chessAIproto/lib/python3.10/site-packages (from pandas>=1.3->ray[all]) (2022.7)\r\n",
      "Requirement already satisfied: tensorboard-data-server<0.7.0,>=0.6.0 in /home/monis/.local/lib/python3.10/site-packages (from tensorboard<2.12,>=2.11->tensorflow) (0.6.1)\r\n",
      "Requirement already satisfied: werkzeug>=1.0.1 in /home/monis/.local/lib/python3.10/site-packages (from tensorboard<2.12,>=2.11->tensorflow) (2.2.2)\r\n",
      "Requirement already satisfied: google-auth-oauthlib<0.5,>=0.4.1 in /home/monis/.local/lib/python3.10/site-packages (from tensorboard<2.12,>=2.11->tensorflow) (0.4.6)\r\n",
      "Requirement already satisfied: google-auth<3,>=1.6.3 in /home/monis/.local/lib/python3.10/site-packages (from tensorboard<2.12,>=2.11->tensorflow) (2.15.0)\r\n",
      "Requirement already satisfied: tensorboard-plugin-wit>=1.6.0 in /home/monis/.local/lib/python3.10/site-packages (from tensorboard<2.12,>=2.11->tensorflow) (1.8.1)\r\n",
      "Requirement already satisfied: markdown>=2.6.8 in /home/monis/.local/lib/python3.10/site-packages (from tensorboard<2.12,>=2.11->tensorflow) (3.4.1)\r\n",
      "Requirement already satisfied: idna<4,>=2.5 in /home/monis/miniconda3/envs/chessAIproto/lib/python3.10/site-packages (from requests->ray[all]) (3.4)\r\n",
      "Requirement already satisfied: certifi>=2017.4.17 in /home/monis/.local/lib/python3.10/site-packages (from requests->ray[all]) (2022.12.7)\r\n",
      "Requirement already satisfied: distlib<1,>=0.3.6 in /home/monis/miniconda3/envs/chessAIproto/lib/python3.10/site-packages (from virtualenv>=20.0.24->ray[all]) (0.3.6)\r\n",
      "Requirement already satisfied: platformdirs<3,>=2.4 in /home/monis/miniconda3/envs/chessAIproto/lib/python3.10/site-packages (from virtualenv>=20.0.24->ray[all]) (2.5.2)\r\n",
      "Requirement already satisfied: tqdm in /home/monis/miniconda3/envs/chessAIproto/lib/python3.10/site-packages (from AutoROM->pettingzoo[all]) (4.64.1)\r\n",
      "Requirement already satisfied: libtorrent in /home/monis/miniconda3/envs/chessAIproto/lib/python3.10/site-packages (from AutoROM->pettingzoo[all]) (2.0.7)\r\n",
      "Requirement already satisfied: GitPython>=1.0.1 in /home/monis/miniconda3/envs/chessAIproto/lib/python3.10/site-packages (from bandit->pettingzoo[all]) (3.1.30)\r\n",
      "Requirement already satisfied: stevedore>=1.20.0 in /home/monis/miniconda3/envs/chessAIproto/lib/python3.10/site-packages (from bandit->pettingzoo[all]) (4.1.1)\r\n",
      "Requirement already satisfied: anyio<5,>=3.4.0 in /home/monis/miniconda3/envs/chessAIproto/lib/python3.10/site-packages (from starlette->ray[all]) (3.5.0)\r\n",
      "Requirement already satisfied: pyflakes<3.1.0,>=3.0.0 in /home/monis/miniconda3/envs/chessAIproto/lib/python3.10/site-packages (from flake8->pettingzoo[all]) (3.0.1)\r\n",
      "Requirement already satisfied: mccabe<0.8.0,>=0.7.0 in /home/monis/miniconda3/envs/chessAIproto/lib/python3.10/site-packages (from flake8->pettingzoo[all]) (0.7.0)\r\n",
      "Requirement already satisfied: pycodestyle<2.11.0,>=2.10.0 in /home/monis/miniconda3/envs/chessAIproto/lib/python3.10/site-packages (from flake8->pettingzoo[all]) (2.10.0)\r\n",
      "Requirement already satisfied: pyrsistent!=0.17.0,!=0.17.1,!=0.17.2,>=0.14.0 in /home/monis/miniconda3/envs/chessAIproto/lib/python3.10/site-packages (from jsonschema->ray[all]) (0.18.0)\r\n",
      "Requirement already satisfied: requests-oauthlib in /home/monis/.local/lib/python3.10/site-packages (from kubernetes->ray[all]) (1.3.1)\r\n",
      "Requirement already satisfied: websocket-client!=0.40.0,!=0.41.*,!=0.42.*,>=0.32.0 in /home/monis/miniconda3/envs/chessAIproto/lib/python3.10/site-packages (from kubernetes->ray[all]) (0.58.0)\r\n",
      "Requirement already satisfied: opencensus-context>=0.1.3 in /home/monis/miniconda3/envs/chessAIproto/lib/python3.10/site-packages (from opencensus->ray[all]) (0.1.3)\r\n",
      "Requirement already satisfied: google-api-core<3.0.0,>=1.0.0 in /home/monis/miniconda3/envs/chessAIproto/lib/python3.10/site-packages (from opencensus->ray[all]) (2.11.0)\r\n",
      "Requirement already satisfied: nodeenv>=0.11.1 in /home/monis/miniconda3/envs/chessAIproto/lib/python3.10/site-packages (from pre-commit->pettingzoo[all]) (1.7.0)\r\n",
      "Requirement already satisfied: identify>=1.0.0 in /home/monis/miniconda3/envs/chessAIproto/lib/python3.10/site-packages (from pre-commit->pettingzoo[all]) (2.5.13)\r\n",
      "Requirement already satisfied: cfgv>=2.0.0 in /home/monis/miniconda3/envs/chessAIproto/lib/python3.10/site-packages (from pre-commit->pettingzoo[all]) (3.3.1)\r\n",
      "Requirement already satisfied: python-xlib>=0.17 in /home/monis/miniconda3/envs/chessAIproto/lib/python3.10/site-packages (from pynput->pettingzoo[all]) (0.33)\r\n",
      "Requirement already satisfied: evdev>=1.3 in /home/monis/miniconda3/envs/chessAIproto/lib/python3.10/site-packages (from pynput->pettingzoo[all]) (1.6.0)\r\n",
      "Requirement already satisfied: pluggy<2.0,>=0.12 in /home/monis/miniconda3/envs/chessAIproto/lib/python3.10/site-packages (from pytest->pettingzoo[all]) (1.0.0)\r\n",
      "Requirement already satisfied: iniconfig in /home/monis/miniconda3/envs/chessAIproto/lib/python3.10/site-packages (from pytest->pettingzoo[all]) (2.0.0)\r\n",
      "Requirement already satisfied: exceptiongroup>=1.0.0rc8 in /home/monis/.local/lib/python3.10/site-packages (from pytest->pettingzoo[all]) (1.0.4)\r\n",
      "Requirement already satisfied: tomli>=1.0.0 in /home/monis/miniconda3/envs/chessAIproto/lib/python3.10/site-packages (from pytest->pettingzoo[all]) (2.0.1)\r\n",
      "Requirement already satisfied: coverage[toml]>=5.2.1 in /home/monis/miniconda3/envs/chessAIproto/lib/python3.10/site-packages (from pytest-cov->pettingzoo[all]) (7.0.5)\r\n",
      "Requirement already satisfied: commonmark<0.10.0,>=0.9.0 in /home/monis/miniconda3/envs/chessAIproto/lib/python3.10/site-packages (from rich->ray[all]) (0.9.1)\r\n",
      "Requirement already satisfied: pygments<3.0.0,>=2.6.0 in /home/monis/miniconda3/envs/chessAIproto/lib/python3.10/site-packages (from rich->ray[all]) (2.11.2)\r\n",
      "Requirement already satisfied: PyWavelets>=1.1.1 in /home/monis/miniconda3/envs/chessAIproto/lib/python3.10/site-packages (from scikit-image->ray[all]) (1.4.1)\r\n",
      "Requirement already satisfied: tifffile>=2019.7.26 in /home/monis/miniconda3/envs/chessAIproto/lib/python3.10/site-packages (from scikit-image->ray[all]) (2022.10.10)\r\n",
      "Requirement already satisfied: imageio>=2.4.1 in /home/monis/miniconda3/envs/chessAIproto/lib/python3.10/site-packages (from scikit-image->ray[all]) (2.24.0)\r\n",
      "Requirement already satisfied: networkx>=2.2 in /home/monis/miniconda3/envs/chessAIproto/lib/python3.10/site-packages (from scikit-image->ray[all]) (3.0)\r\n",
      "Requirement already satisfied: h11>=0.8 in /home/monis/.local/lib/python3.10/site-packages (from uvicorn->ray[all]) (0.14.0)\r\n",
      "Requirement already satisfied: sniffio>=1.1 in /home/monis/.local/lib/python3.10/site-packages (from anyio<5,>=3.4.0->starlette->ray[all]) (1.3.0)\r\n",
      "Requirement already satisfied: wcwidth>=0.1.4 in /home/monis/miniconda3/envs/chessAIproto/lib/python3.10/site-packages (from blessed>=1.17.1->gpustat>=1.0.0->ray[all]) (0.2.5)\r\n",
      "Requirement already satisfied: pycparser in /home/monis/miniconda3/envs/chessAIproto/lib/python3.10/site-packages (from cffi->hanabi-learning-environment==0.0.4->pettingzoo[all]) (2.21)\r\n",
      "Requirement already satisfied: gitdb<5,>=4.0.1 in /home/monis/miniconda3/envs/chessAIproto/lib/python3.10/site-packages (from GitPython>=1.0.1->bandit->pettingzoo[all]) (4.0.10)\r\n",
      "Requirement already satisfied: cachetools<6.0,>=2.0.0 in /home/monis/.local/lib/python3.10/site-packages (from google-auth<3,>=1.6.3->tensorboard<2.12,>=2.11->tensorflow) (5.2.0)\r\n",
      "Requirement already satisfied: rsa<5,>=3.1.4 in /home/monis/.local/lib/python3.10/site-packages (from google-auth<3,>=1.6.3->tensorboard<2.12,>=2.11->tensorflow) (4.9)\r\n",
      "Requirement already satisfied: pyasn1-modules>=0.2.1 in /home/monis/.local/lib/python3.10/site-packages (from google-auth<3,>=1.6.3->tensorboard<2.12,>=2.11->tensorflow) (0.2.8)\r\n",
      "Requirement already satisfied: oauthlib>=3.0.0 in /home/monis/miniconda3/envs/chessAIproto/lib/python3.10/site-packages (from requests-oauthlib->kubernetes->ray[all]) (3.2.2)\r\n",
      "Requirement already satisfied: pbr!=2.1.0,>=2.0.0 in /home/monis/miniconda3/envs/chessAIproto/lib/python3.10/site-packages (from stevedore>=1.20.0->bandit->pettingzoo[all]) (5.11.1)\r\n",
      "Requirement already satisfied: MarkupSafe>=2.1.1 in /home/monis/.local/lib/python3.10/site-packages (from werkzeug>=1.0.1->tensorboard<2.12,>=2.11->tensorflow) (2.1.1)\r\n",
      "Requirement already satisfied: smmap<6,>=3.0.1 in /home/monis/miniconda3/envs/chessAIproto/lib/python3.10/site-packages (from gitdb<5,>=4.0.1->GitPython>=1.0.1->bandit->pettingzoo[all]) (5.0.0)\r\n",
      "Requirement already satisfied: pyasn1<0.5.0,>=0.4.6 in /home/monis/.local/lib/python3.10/site-packages (from pyasn1-modules>=0.2.1->google-auth<3,>=1.6.3->tensorboard<2.12,>=2.11->tensorflow) (0.4.8)\r\n"
     ]
    }
   ],
   "source": [
    "!pip install pettingzoo\n",
    "!pip install \"ray[all]\" tensorflow \"pettingzoo[all]\""
   ]
  },
  {
   "cell_type": "code",
   "execution_count": 7,
   "outputs": [
    {
     "name": "stdout",
     "output_type": "stream",
     "text": [
      "Requirement already satisfied: pygame in /home/monis/miniconda3/envs/chessAIproto/lib/python3.10/site-packages (2.1.3.dev8)\r\n",
      "Requirement already satisfied: supersuit in /home/monis/miniconda3/envs/chessAIproto/lib/python3.10/site-packages (3.7.1)\r\n",
      "Requirement already satisfied: gymnasium>=0.26.0 in /home/monis/miniconda3/envs/chessAIproto/lib/python3.10/site-packages (from supersuit) (0.27.0)\r\n",
      "Requirement already satisfied: numpy>=1.19.0 in /home/monis/.local/lib/python3.10/site-packages (from supersuit) (1.23.5)\r\n",
      "Requirement already satisfied: jax-jumpy>=0.2.0 in /home/monis/miniconda3/envs/chessAIproto/lib/python3.10/site-packages (from gymnasium>=0.26.0->supersuit) (0.2.0)\r\n",
      "Requirement already satisfied: gymnasium-notices>=0.0.1 in /home/monis/miniconda3/envs/chessAIproto/lib/python3.10/site-packages (from gymnasium>=0.26.0->supersuit) (0.0.1)\r\n",
      "Requirement already satisfied: typing-extensions>=4.3.0 in /home/monis/.local/lib/python3.10/site-packages (from gymnasium>=0.26.0->supersuit) (4.4.0)\r\n",
      "Requirement already satisfied: cloudpickle>=1.2.0 in /home/monis/miniconda3/envs/chessAIproto/lib/python3.10/site-packages (from gymnasium>=0.26.0->supersuit) (1.6.0)\r\n",
      "Requirement already satisfied: shimmy<1.0,>=0.1.0 in /home/monis/miniconda3/envs/chessAIproto/lib/python3.10/site-packages (from gymnasium>=0.26.0->supersuit) (0.2.0)\r\n",
      "Collecting tensorflow_probability\r\n",
      "  Downloading tensorflow_probability-0.19.0-py2.py3-none-any.whl (6.7 MB)\r\n",
      "\u001B[2K     \u001B[90m━━━━━━━━━━━━━━━━━━━━━━━━━━━━━━━━━━━━━━━━\u001B[0m \u001B[32m6.7/6.7 MB\u001B[0m \u001B[31m12.9 MB/s\u001B[0m eta \u001B[36m0:00:00\u001B[0m00:01\u001B[0m00:01\u001B[0m\r\n",
      "\u001B[?25hRequirement already satisfied: cloudpickle>=1.3 in /home/monis/miniconda3/envs/chessAIproto/lib/python3.10/site-packages (from tensorflow_probability) (1.6.0)\r\n",
      "Requirement already satisfied: dm-tree in /home/monis/miniconda3/envs/chessAIproto/lib/python3.10/site-packages (from tensorflow_probability) (0.1.8)\r\n",
      "Requirement already satisfied: absl-py in /home/monis/.local/lib/python3.10/site-packages (from tensorflow_probability) (1.3.0)\r\n",
      "Requirement already satisfied: six>=1.10.0 in /home/monis/miniconda3/envs/chessAIproto/lib/python3.10/site-packages (from tensorflow_probability) (1.16.0)\r\n",
      "Requirement already satisfied: decorator in /home/monis/miniconda3/envs/chessAIproto/lib/python3.10/site-packages (from tensorflow_probability) (5.1.1)\r\n",
      "Requirement already satisfied: gast>=0.3.2 in /home/monis/.local/lib/python3.10/site-packages (from tensorflow_probability) (0.4.0)\r\n",
      "Requirement already satisfied: numpy>=1.13.3 in /home/monis/.local/lib/python3.10/site-packages (from tensorflow_probability) (1.23.5)\r\n",
      "Installing collected packages: tensorflow_probability\r\n",
      "Successfully installed tensorflow_probability-0.19.0\r\n"
     ]
    }
   ],
   "source": [
    "!pip install pygame\n",
    "!pip install supersuit\n",
    "!pip install tensorflow_probability"
   ],
   "metadata": {
    "collapsed": false
   }
  },
  {
   "cell_type": "code",
   "execution_count": 3,
   "outputs": [
    {
     "name": "stdout",
     "output_type": "stream",
     "text": [
      "Number of CPUs in this system: 16\n",
      "pyarrow: 7.0.0\n"
     ]
    }
   ],
   "source": [
    "import os\n",
    "\n",
    "print(f\"Number of CPUs in this system: {os.cpu_count()}\")\n",
    "import pyarrow\n",
    "\n",
    "print(f\"pyarrow: {pyarrow.__version__}\")"
   ],
   "metadata": {
    "collapsed": false
   }
  },
  {
   "cell_type": "code",
   "execution_count": 4,
   "outputs": [
    {
     "name": "stderr",
     "output_type": "stream",
     "text": [
      "2023-01-11 20:53:06,333\tINFO worker.py:1529 -- Started a local Ray instance. View the dashboard at \u001B[1m\u001B[32m127.0.0.1:8265 \u001B[39m\u001B[22m\n"
     ]
    },
    {
     "name": "stdout",
     "output_type": "stream",
     "text": [
      "{'object_store_memory': 8321141145.0, 'GPU': 1.0, 'accelerator_type:G': 1.0, 'CPU': 16.0, 'node:192.168.7.82': 1.0, 'memory': 16642282292.0}\n"
     ]
    }
   ],
   "source": [
    "import ray\n",
    "\n",
    "if ray.is_initialized():\n",
    "    ray.shutdown()\n",
    "ray.init()\n",
    "\n",
    "print(ray.cluster_resources())"
   ],
   "metadata": {
    "collapsed": false
   }
  },
  {
   "cell_type": "code",
   "execution_count": 7,
   "outputs": [
    {
     "name": "stdout",
     "output_type": "stream",
     "text": [
      "imported libs\n",
      "in main func\n"
     ]
    },
    {
     "ename": "KeyboardInterrupt",
     "evalue": "",
     "output_type": "error",
     "traceback": [
      "\u001B[0;31m---------------------------------------------------------------------------\u001B[0m",
      "\u001B[0;31mKeyboardInterrupt\u001B[0m                         Traceback (most recent call last)",
      "Cell \u001B[0;32mIn[7], line 55\u001B[0m\n\u001B[1;32m     53\u001B[0m \u001B[38;5;28mprint\u001B[39m(\u001B[38;5;124m\"\u001B[39m\u001B[38;5;124min main func\u001B[39m\u001B[38;5;124m\"\u001B[39m)\n\u001B[1;32m     54\u001B[0m env_name \u001B[38;5;241m=\u001B[39m \u001B[38;5;124m\"\u001B[39m\u001B[38;5;124mchess_v5\u001B[39m\u001B[38;5;124m\"\u001B[39m\n\u001B[0;32m---> 55\u001B[0m \u001B[43mregister_env\u001B[49m\u001B[43m(\u001B[49m\u001B[43menv_name\u001B[49m\u001B[43m,\u001B[49m\u001B[43m \u001B[49m\u001B[38;5;28;43;01mlambda\u001B[39;49;00m\u001B[43m \u001B[49m\u001B[43mconfig\u001B[49m\u001B[43m:\u001B[49m\u001B[43m \u001B[49m\u001B[43mPettingZooEnv\u001B[49m\u001B[43m(\u001B[49m\u001B[43menv_creator\u001B[49m\u001B[43m(\u001B[49m\u001B[43m{\u001B[49m\u001B[43m}\u001B[49m\u001B[43m)\u001B[49m\u001B[43m)\u001B[49m\u001B[43m)\u001B[49m\n\u001B[1;32m     56\u001B[0m \u001B[38;5;28mprint\u001B[39m(\u001B[38;5;124m\"\u001B[39m\u001B[38;5;124menv registered\u001B[39m\u001B[38;5;124m\"\u001B[39m)\n\u001B[1;32m     57\u001B[0m test_env \u001B[38;5;241m=\u001B[39m PettingZooEnv(env_creator({}))\n",
      "File \u001B[0;32m~/miniconda3/envs/chessAIproto/lib/python3.10/site-packages/ray/tune/registry.py:118\u001B[0m, in \u001B[0;36mregister_env\u001B[0;34m(name, env_creator)\u001B[0m\n\u001B[1;32m    116\u001B[0m \u001B[38;5;28;01mif\u001B[39;00m \u001B[38;5;129;01mnot\u001B[39;00m callable(env_creator):\n\u001B[1;32m    117\u001B[0m     \u001B[38;5;28;01mraise\u001B[39;00m \u001B[38;5;167;01mTypeError\u001B[39;00m(\u001B[38;5;124m\"\u001B[39m\u001B[38;5;124mSecond argument must be callable.\u001B[39m\u001B[38;5;124m\"\u001B[39m, env_creator)\n\u001B[0;32m--> 118\u001B[0m \u001B[43m_global_registry\u001B[49m\u001B[38;5;241;43m.\u001B[39;49m\u001B[43mregister\u001B[49m\u001B[43m(\u001B[49m\u001B[43mENV_CREATOR\u001B[49m\u001B[43m,\u001B[49m\u001B[43m \u001B[49m\u001B[43mname\u001B[49m\u001B[43m,\u001B[49m\u001B[43m \u001B[49m\u001B[43menv_creator\u001B[49m\u001B[43m)\u001B[49m\n",
      "File \u001B[0;32m~/miniconda3/envs/chessAIproto/lib/python3.10/site-packages/ray/tune/registry.py:189\u001B[0m, in \u001B[0;36m_Registry.register\u001B[0;34m(self, category, key, value)\u001B[0m\n\u001B[1;32m    187\u001B[0m \u001B[38;5;28mself\u001B[39m\u001B[38;5;241m.\u001B[39m_to_flush[(category, key)] \u001B[38;5;241m=\u001B[39m pickle\u001B[38;5;241m.\u001B[39mdumps_debug(value)\n\u001B[1;32m    188\u001B[0m \u001B[38;5;28;01mif\u001B[39;00m _internal_kv_initialized():\n\u001B[0;32m--> 189\u001B[0m     \u001B[38;5;28;43mself\u001B[39;49m\u001B[38;5;241;43m.\u001B[39;49m\u001B[43mflush_values\u001B[49m\u001B[43m(\u001B[49m\u001B[43m)\u001B[49m\n",
      "File \u001B[0;32m~/miniconda3/envs/chessAIproto/lib/python3.10/site-packages/ray/tune/registry.py:211\u001B[0m, in \u001B[0;36m_Registry.flush_values\u001B[0;34m(self)\u001B[0m\n\u001B[1;32m    209\u001B[0m \u001B[38;5;28;01mdef\u001B[39;00m \u001B[38;5;21mflush_values\u001B[39m(\u001B[38;5;28mself\u001B[39m):\n\u001B[1;32m    210\u001B[0m     \u001B[38;5;28;01mfor\u001B[39;00m (category, key), value \u001B[38;5;129;01min\u001B[39;00m \u001B[38;5;28mself\u001B[39m\u001B[38;5;241m.\u001B[39m_to_flush\u001B[38;5;241m.\u001B[39mitems():\n\u001B[0;32m--> 211\u001B[0m         \u001B[43m_internal_kv_put\u001B[49m\u001B[43m(\u001B[49m\n\u001B[1;32m    212\u001B[0m \u001B[43m            \u001B[49m\u001B[43m_make_key\u001B[49m\u001B[43m(\u001B[49m\u001B[38;5;28;43mself\u001B[39;49m\u001B[38;5;241;43m.\u001B[39;49m\u001B[43m_prefix\u001B[49m\u001B[43m,\u001B[49m\u001B[43m \u001B[49m\u001B[43mcategory\u001B[49m\u001B[43m,\u001B[49m\u001B[43m \u001B[49m\u001B[43mkey\u001B[49m\u001B[43m)\u001B[49m\u001B[43m,\u001B[49m\u001B[43m \u001B[49m\u001B[43mvalue\u001B[49m\u001B[43m,\u001B[49m\u001B[43m \u001B[49m\u001B[43moverwrite\u001B[49m\u001B[38;5;241;43m=\u001B[39;49m\u001B[38;5;28;43;01mTrue\u001B[39;49;00m\n\u001B[1;32m    213\u001B[0m \u001B[43m        \u001B[49m\u001B[43m)\u001B[49m\n\u001B[1;32m    214\u001B[0m     \u001B[38;5;28mself\u001B[39m\u001B[38;5;241m.\u001B[39m_to_flush\u001B[38;5;241m.\u001B[39mclear()\n",
      "File \u001B[0;32m~/miniconda3/envs/chessAIproto/lib/python3.10/site-packages/ray/_private/client_mode_hook.py:105\u001B[0m, in \u001B[0;36mclient_mode_hook.<locals>.wrapper\u001B[0;34m(*args, **kwargs)\u001B[0m\n\u001B[1;32m    103\u001B[0m     \u001B[38;5;28;01mif\u001B[39;00m func\u001B[38;5;241m.\u001B[39m\u001B[38;5;18m__name__\u001B[39m \u001B[38;5;241m!=\u001B[39m \u001B[38;5;124m\"\u001B[39m\u001B[38;5;124minit\u001B[39m\u001B[38;5;124m\"\u001B[39m \u001B[38;5;129;01mor\u001B[39;00m is_client_mode_enabled_by_default:\n\u001B[1;32m    104\u001B[0m         \u001B[38;5;28;01mreturn\u001B[39;00m \u001B[38;5;28mgetattr\u001B[39m(ray, func\u001B[38;5;241m.\u001B[39m\u001B[38;5;18m__name__\u001B[39m)(\u001B[38;5;241m*\u001B[39margs, \u001B[38;5;241m*\u001B[39m\u001B[38;5;241m*\u001B[39mkwargs)\n\u001B[0;32m--> 105\u001B[0m \u001B[38;5;28;01mreturn\u001B[39;00m \u001B[43mfunc\u001B[49m\u001B[43m(\u001B[49m\u001B[38;5;241;43m*\u001B[39;49m\u001B[43margs\u001B[49m\u001B[43m,\u001B[49m\u001B[43m \u001B[49m\u001B[38;5;241;43m*\u001B[39;49m\u001B[38;5;241;43m*\u001B[39;49m\u001B[43mkwargs\u001B[49m\u001B[43m)\u001B[49m\n",
      "File \u001B[0;32m~/miniconda3/envs/chessAIproto/lib/python3.10/site-packages/ray/experimental/internal_kv.py:94\u001B[0m, in \u001B[0;36m_internal_kv_put\u001B[0;34m(key, value, overwrite, namespace)\u001B[0m\n\u001B[1;32m     88\u001B[0m     namespace \u001B[38;5;241m=\u001B[39m namespace\u001B[38;5;241m.\u001B[39mencode()\n\u001B[1;32m     89\u001B[0m \u001B[38;5;28;01massert\u001B[39;00m (\n\u001B[1;32m     90\u001B[0m     \u001B[38;5;28misinstance\u001B[39m(key, \u001B[38;5;28mbytes\u001B[39m)\n\u001B[1;32m     91\u001B[0m     \u001B[38;5;129;01mand\u001B[39;00m \u001B[38;5;28misinstance\u001B[39m(value, \u001B[38;5;28mbytes\u001B[39m)\n\u001B[1;32m     92\u001B[0m     \u001B[38;5;129;01mand\u001B[39;00m \u001B[38;5;28misinstance\u001B[39m(overwrite, \u001B[38;5;28mbool\u001B[39m)\n\u001B[1;32m     93\u001B[0m )\n\u001B[0;32m---> 94\u001B[0m \u001B[38;5;28;01mreturn\u001B[39;00m \u001B[43mglobal_gcs_client\u001B[49m\u001B[38;5;241;43m.\u001B[39;49m\u001B[43minternal_kv_put\u001B[49m\u001B[43m(\u001B[49m\u001B[43mkey\u001B[49m\u001B[43m,\u001B[49m\u001B[43m \u001B[49m\u001B[43mvalue\u001B[49m\u001B[43m,\u001B[49m\u001B[43m \u001B[49m\u001B[43moverwrite\u001B[49m\u001B[43m,\u001B[49m\u001B[43m \u001B[49m\u001B[43mnamespace\u001B[49m\u001B[43m)\u001B[49m \u001B[38;5;241m==\u001B[39m \u001B[38;5;241m0\u001B[39m\n",
      "File \u001B[0;32m~/miniconda3/envs/chessAIproto/lib/python3.10/site-packages/ray/_private/gcs_utils.py:179\u001B[0m, in \u001B[0;36m_auto_reconnect.<locals>.wrapper\u001B[0;34m(self, *args, **kwargs)\u001B[0m\n\u001B[1;32m    177\u001B[0m \u001B[38;5;28;01mwhile\u001B[39;00m \u001B[38;5;28;01mTrue\u001B[39;00m:\n\u001B[1;32m    178\u001B[0m     \u001B[38;5;28;01mtry\u001B[39;00m:\n\u001B[0;32m--> 179\u001B[0m         \u001B[38;5;28;01mreturn\u001B[39;00m \u001B[43mf\u001B[49m\u001B[43m(\u001B[49m\u001B[38;5;28;43mself\u001B[39;49m\u001B[43m,\u001B[49m\u001B[43m \u001B[49m\u001B[38;5;241;43m*\u001B[39;49m\u001B[43margs\u001B[49m\u001B[43m,\u001B[49m\u001B[43m \u001B[49m\u001B[38;5;241;43m*\u001B[39;49m\u001B[38;5;241;43m*\u001B[39;49m\u001B[43mkwargs\u001B[49m\u001B[43m)\u001B[49m\n\u001B[1;32m    180\u001B[0m     \u001B[38;5;28;01mexcept\u001B[39;00m grpc\u001B[38;5;241m.\u001B[39mRpcError \u001B[38;5;28;01mas\u001B[39;00m e:\n\u001B[1;32m    181\u001B[0m         \u001B[38;5;28;01mif\u001B[39;00m remaining_retry \u001B[38;5;241m<\u001B[39m\u001B[38;5;241m=\u001B[39m \u001B[38;5;241m0\u001B[39m:\n",
      "File \u001B[0;32m~/miniconda3/envs/chessAIproto/lib/python3.10/site-packages/ray/_private/gcs_utils.py:298\u001B[0m, in \u001B[0;36mGcsClient.internal_kv_put\u001B[0;34m(self, key, value, overwrite, namespace, timeout)\u001B[0m\n\u001B[1;32m    291\u001B[0m logger\u001B[38;5;241m.\u001B[39mdebug(\u001B[38;5;124mf\u001B[39m\u001B[38;5;124m\"\u001B[39m\u001B[38;5;124minternal_kv_put \u001B[39m\u001B[38;5;132;01m{\u001B[39;00mkey\u001B[38;5;132;01m!r}\u001B[39;00m\u001B[38;5;124m \u001B[39m\u001B[38;5;132;01m{\u001B[39;00mvalue\u001B[38;5;132;01m!r}\u001B[39;00m\u001B[38;5;124m \u001B[39m\u001B[38;5;132;01m{\u001B[39;00moverwrite\u001B[38;5;132;01m}\u001B[39;00m\u001B[38;5;124m \u001B[39m\u001B[38;5;132;01m{\u001B[39;00mnamespace\u001B[38;5;132;01m!r}\u001B[39;00m\u001B[38;5;124m\"\u001B[39m)\n\u001B[1;32m    292\u001B[0m req \u001B[38;5;241m=\u001B[39m gcs_service_pb2\u001B[38;5;241m.\u001B[39mInternalKVPutRequest(\n\u001B[1;32m    293\u001B[0m     namespace\u001B[38;5;241m=\u001B[39mnamespace,\n\u001B[1;32m    294\u001B[0m     key\u001B[38;5;241m=\u001B[39mkey,\n\u001B[1;32m    295\u001B[0m     value\u001B[38;5;241m=\u001B[39mvalue,\n\u001B[1;32m    296\u001B[0m     overwrite\u001B[38;5;241m=\u001B[39moverwrite,\n\u001B[1;32m    297\u001B[0m )\n\u001B[0;32m--> 298\u001B[0m reply \u001B[38;5;241m=\u001B[39m \u001B[38;5;28;43mself\u001B[39;49m\u001B[38;5;241;43m.\u001B[39;49m\u001B[43m_kv_stub\u001B[49m\u001B[38;5;241;43m.\u001B[39;49m\u001B[43mInternalKVPut\u001B[49m\u001B[43m(\u001B[49m\u001B[43mreq\u001B[49m\u001B[43m,\u001B[49m\u001B[43m \u001B[49m\u001B[43mtimeout\u001B[49m\u001B[38;5;241;43m=\u001B[39;49m\u001B[43mtimeout\u001B[49m\u001B[43m)\u001B[49m\n\u001B[1;32m    299\u001B[0m \u001B[38;5;28;01mif\u001B[39;00m reply\u001B[38;5;241m.\u001B[39mstatus\u001B[38;5;241m.\u001B[39mcode \u001B[38;5;241m==\u001B[39m GcsCode\u001B[38;5;241m.\u001B[39mOK:\n\u001B[1;32m    300\u001B[0m     \u001B[38;5;28;01mreturn\u001B[39;00m reply\u001B[38;5;241m.\u001B[39madded_num\n",
      "File \u001B[0;32m~/.local/lib/python3.10/site-packages/grpc/_channel.py:944\u001B[0m, in \u001B[0;36m_UnaryUnaryMultiCallable.__call__\u001B[0;34m(self, request, timeout, metadata, credentials, wait_for_ready, compression)\u001B[0m\n\u001B[1;32m    937\u001B[0m \u001B[38;5;28;01mdef\u001B[39;00m \u001B[38;5;21m__call__\u001B[39m(\u001B[38;5;28mself\u001B[39m,\n\u001B[1;32m    938\u001B[0m              request,\n\u001B[1;32m    939\u001B[0m              timeout\u001B[38;5;241m=\u001B[39m\u001B[38;5;28;01mNone\u001B[39;00m,\n\u001B[0;32m   (...)\u001B[0m\n\u001B[1;32m    942\u001B[0m              wait_for_ready\u001B[38;5;241m=\u001B[39m\u001B[38;5;28;01mNone\u001B[39;00m,\n\u001B[1;32m    943\u001B[0m              compression\u001B[38;5;241m=\u001B[39m\u001B[38;5;28;01mNone\u001B[39;00m):\n\u001B[0;32m--> 944\u001B[0m     state, call, \u001B[38;5;241m=\u001B[39m \u001B[38;5;28;43mself\u001B[39;49m\u001B[38;5;241;43m.\u001B[39;49m\u001B[43m_blocking\u001B[49m\u001B[43m(\u001B[49m\u001B[43mrequest\u001B[49m\u001B[43m,\u001B[49m\u001B[43m \u001B[49m\u001B[43mtimeout\u001B[49m\u001B[43m,\u001B[49m\u001B[43m \u001B[49m\u001B[43mmetadata\u001B[49m\u001B[43m,\u001B[49m\u001B[43m \u001B[49m\u001B[43mcredentials\u001B[49m\u001B[43m,\u001B[49m\n\u001B[1;32m    945\u001B[0m \u001B[43m                                  \u001B[49m\u001B[43mwait_for_ready\u001B[49m\u001B[43m,\u001B[49m\u001B[43m \u001B[49m\u001B[43mcompression\u001B[49m\u001B[43m)\u001B[49m\n\u001B[1;32m    946\u001B[0m     \u001B[38;5;28;01mreturn\u001B[39;00m _end_unary_response_blocking(state, call, \u001B[38;5;28;01mFalse\u001B[39;00m, \u001B[38;5;28;01mNone\u001B[39;00m)\n",
      "File \u001B[0;32m~/.local/lib/python3.10/site-packages/grpc/_channel.py:933\u001B[0m, in \u001B[0;36m_UnaryUnaryMultiCallable._blocking\u001B[0;34m(self, request, timeout, metadata, credentials, wait_for_ready, compression)\u001B[0m\n\u001B[1;32m    925\u001B[0m \u001B[38;5;28;01melse\u001B[39;00m:\n\u001B[1;32m    926\u001B[0m     call \u001B[38;5;241m=\u001B[39m \u001B[38;5;28mself\u001B[39m\u001B[38;5;241m.\u001B[39m_channel\u001B[38;5;241m.\u001B[39msegregated_call(\n\u001B[1;32m    927\u001B[0m         cygrpc\u001B[38;5;241m.\u001B[39mPropagationConstants\u001B[38;5;241m.\u001B[39mGRPC_PROPAGATE_DEFAULTS,\n\u001B[1;32m    928\u001B[0m         \u001B[38;5;28mself\u001B[39m\u001B[38;5;241m.\u001B[39m_method, \u001B[38;5;28;01mNone\u001B[39;00m, _determine_deadline(deadline), metadata,\n\u001B[0;32m   (...)\u001B[0m\n\u001B[1;32m    931\u001B[0m             \u001B[38;5;28;01mNone\u001B[39;00m,\n\u001B[1;32m    932\u001B[0m         ),), \u001B[38;5;28mself\u001B[39m\u001B[38;5;241m.\u001B[39m_context)\n\u001B[0;32m--> 933\u001B[0m     event \u001B[38;5;241m=\u001B[39m \u001B[43mcall\u001B[49m\u001B[38;5;241;43m.\u001B[39;49m\u001B[43mnext_event\u001B[49m\u001B[43m(\u001B[49m\u001B[43m)\u001B[49m\n\u001B[1;32m    934\u001B[0m     _handle_event(event, state, \u001B[38;5;28mself\u001B[39m\u001B[38;5;241m.\u001B[39m_response_deserializer)\n\u001B[1;32m    935\u001B[0m     \u001B[38;5;28;01mreturn\u001B[39;00m state, call\n",
      "File \u001B[0;32msrc/python/grpcio/grpc/_cython/_cygrpc/channel.pyx.pxi:338\u001B[0m, in \u001B[0;36mgrpc._cython.cygrpc.SegregatedCall.next_event\u001B[0;34m()\u001B[0m\n",
      "File \u001B[0;32msrc/python/grpcio/grpc/_cython/_cygrpc/channel.pyx.pxi:169\u001B[0m, in \u001B[0;36mgrpc._cython.cygrpc._next_call_event\u001B[0;34m()\u001B[0m\n",
      "File \u001B[0;32msrc/python/grpcio/grpc/_cython/_cygrpc/channel.pyx.pxi:163\u001B[0m, in \u001B[0;36mgrpc._cython.cygrpc._next_call_event\u001B[0;34m()\u001B[0m\n",
      "File \u001B[0;32msrc/python/grpcio/grpc/_cython/_cygrpc/completion_queue.pyx.pxi:78\u001B[0m, in \u001B[0;36mgrpc._cython.cygrpc._latent_event\u001B[0;34m()\u001B[0m\n",
      "File \u001B[0;32msrc/python/grpcio/grpc/_cython/_cygrpc/completion_queue.pyx.pxi:61\u001B[0m, in \u001B[0;36mgrpc._cython.cygrpc._internal_latent_event\u001B[0;34m()\u001B[0m\n",
      "File \u001B[0;32msrc/python/grpcio/grpc/_cython/_cygrpc/completion_queue.pyx.pxi:42\u001B[0m, in \u001B[0;36mgrpc._cython.cygrpc._next\u001B[0;34m()\u001B[0m\n",
      "\u001B[0;31mKeyboardInterrupt\u001B[0m: "
     ]
    }
   ],
   "source": [
    "from ray.rllib.algorithms.ppo import PPO\n",
    "from ray.rllib.algorithms.alpha_zero.\n",
    "from ray.rllib.models import ModelCatalog\n",
    "from ray.rllib.models.tf.tf_modelv2 import TFModelV2\n",
    "from ray.tune.registry import register_env\n",
    "from ray.rllib.env.wrappers.pettingzoo_env import PettingZooEnv\n",
    "from pettingzoo.classic import chess_v5\n",
    "import supersuit as ss\n",
    "import tensorflow as tf\n",
    "\n",
    "print(\"imported libs\")\n",
    "\n",
    "\n",
    "class CNNModel(TFModelV2):\n",
    "    def __init__(self, obs_space, action_space, num_outputs, model_config, name):\n",
    "        layer_state = tf.keras.layers.Input(shape=obs_space.shape, name='observations')\n",
    "        conv_xs = tf.keras.layers.Conv2D(4, (1, 1), activation='relu')(layer_state)\n",
    "        conv_s = tf.keras.layers.Conv2D(8, (2, 2), strides=(1, 1), activation='relu')(layer_state)\n",
    "        conv_m = tf.keras.layers.Conv2D(12, (3, 3), strides=(2, 2), activation='relu')(layer_state)\n",
    "        conv_l = tf.keras.layers.Conv2D(16, (4, 4), strides=(2, 2), activation='relu')(layer_state)\n",
    "        conv_xl = tf.keras.layers.Conv2D(20, (8, 8), activation='relu')(layer_state)\n",
    "        conv_rank = tf.keras.layers.Conv2D(3, (1, 8), activation='relu')(layer_state)\n",
    "        conv_file = tf.keras.layers.Conv2D(3, (8, 1), activation='relu')(layer_state)\n",
    "\n",
    "        f_xs = tf.keras.layers.Flatten()(conv_xs)\n",
    "        f_s = tf.keras.layers.Flatten()(conv_s)\n",
    "        f_m = tf.keras.layers.Flatten()(conv_m)\n",
    "        f_l = tf.keras.layers.Flatten()(conv_l)\n",
    "        f_xl = tf.keras.layers.Flatten()(conv_xl)\n",
    "        f_r = tf.keras.layers.Flatten()(conv_rank)\n",
    "        f_f = tf.keras.layers.Flatten()(conv_file)\n",
    "\n",
    "        dense1 = tf.keras.layers.Concatenate(name='dense_bass')([f_xs, f_s, f_m, f_l, f_xl, f_r, f_f])\n",
    "        dense2 = tf.keras.layers.Dense(256, activation='sigmoid')(dense1)\n",
    "        dense3 = tf.keras.layers.Dense(128, activation='sigmoid')(dense2)\n",
    "        dense4 = tf.keras.layers.Dense(56, activation='sigmoid')(dense3)\n",
    "        dense5 = tf.keras.layers.Dense(64, activation='sigmoid')(dense4)\n",
    "        dense6 = tf.keras.layers.Dense(32, activation='sigmoid')(dense5)\n",
    "\n",
    "        value_head = tf.keras.layers.Dense(num_outputs)(dense6)\n",
    "\n",
    "        self.base_model = tf.keras.Model(inputs=layer_state,\n",
    "                                        outputs=value_head\n",
    "                                        )\n",
    "        def forward(self, input_dict, state, seq_lens):\n",
    "            model_out = self.base_model(input_dict['obs'])\n",
    "            return model_out, state\n",
    "\n",
    "def env_creator(args):\n",
    "    env = chess_v5.env(render_mode='human')\n",
    "    return env\n",
    "\n",
    "if __name__ == '__main__':\n",
    "    print(\"in main func\")\n",
    "    env_name = \"chess_v5\"\n",
    "    register_env(env_name, lambda config: PettingZooEnv(env_creator({})))\n",
    "    print(\"env registered\")\n",
    "    test_env = PettingZooEnv(env_creator({}))\n",
    "    obs_space = test_env.observation_space\n",
    "    act_space = test_env.action_space\n",
    "    ModelCatalog.register_custom_model(\"CNNModel\", CNNModel)\n",
    "    print(\"model registered\")\n",
    "    def gen_policy(i):\n",
    "        config = {\n",
    "            \"model\":{\n",
    "                \"custom_model\": \"CNNModel\",\n",
    "            },\n",
    "        }\n",
    "        return (None, obs_space, act_space, config)\n",
    "    policies = {\"policy_0\": gen_policy(0)}\n",
    "    print(\"policy registered\")\n",
    "    policy_ids = list(policies.keys())\n",
    "    ray.init(num_cpus=8, num_gpus=1)\n",
    "    PPOagent = PPO(env=env_name, config=)\n"
   ],
   "metadata": {
    "collapsed": false
   }
  },
  {
   "cell_type": "code",
   "execution_count": null,
   "outputs": [],
   "source": [],
   "metadata": {
    "collapsed": false,
    "pycharm": {
     "is_executing": true
    }
   }
  },
  {
   "cell_type": "code",
   "execution_count": 1,
   "outputs": [],
   "source": [],
   "metadata": {
    "collapsed": false
   }
  }
 ],
 "metadata": {
  "kernelspec": {
   "display_name": "Python 3",
   "language": "python",
   "name": "python3"
  },
  "language_info": {
   "codemirror_mode": {
    "name": "ipython",
    "version": 2
   },
   "file_extension": ".py",
   "mimetype": "text/x-python",
   "name": "python",
   "nbconvert_exporter": "python",
   "pygments_lexer": "ipython2",
   "version": "2.7.6"
  }
 },
 "nbformat": 4,
 "nbformat_minor": 0
}
